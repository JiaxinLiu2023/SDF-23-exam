{
 "cells": [
  {
   "cell_type": "markdown",
   "id": "329fdb9a",
   "metadata": {},
   "source": [
    "# Question 1: Stock Analysis Using Python"
   ]
  },
  {
   "cell_type": "markdown",
   "id": "a218df89",
   "metadata": {},
   "source": [
    "# 1.\tDownload Monthly Stock Price Data"
   ]
  },
  {
   "cell_type": "code",
   "execution_count": 1,
   "id": "bead4bb9",
   "metadata": {},
   "outputs": [],
   "source": [
    "import pandas as pd\n",
    "import yfinance as yf"
   ]
  },
  {
   "cell_type": "code",
   "execution_count": 2,
   "id": "62076590",
   "metadata": {},
   "outputs": [
    {
     "name": "stdout",
     "output_type": "stream",
     "text": [
      "[*********************100%%**********************]  1 of 1 completed\n"
     ]
    }
   ],
   "source": [
    "# download the daily stock price of LMT from 2015-01-01 to 2019-12-31\n",
    "lmt = yf.download('LMT', start='2015-01-01', end='2019-12-31')"
   ]
  },
  {
   "cell_type": "code",
   "execution_count": 21,
   "id": "0013674e",
   "metadata": {},
   "outputs": [],
   "source": [
    "#get the monthly stock price, which is the close price of each month\n",
    "monthly_lmt = lmt['Adj Close'].resample('M').last()"
   ]
  },
  {
   "cell_type": "code",
   "execution_count": 79,
   "id": "4c1a0534",
   "metadata": {},
   "outputs": [
    {
     "name": "stdout",
     "output_type": "stream",
     "text": [
      "Date\n",
      "2015-01-31    148.920517\n",
      "2015-02-28    159.320999\n",
      "2015-03-31    161.638550\n",
      "2015-04-30    148.609344\n",
      "2015-05-31    151.067841\n",
      "2015-06-30    149.221573\n",
      "2015-07-31    166.238785\n",
      "2015-08-31    162.674637\n",
      "2015-09-30    167.631348\n",
      "2015-10-31    177.755127\n",
      "2015-11-30    178.517761\n",
      "2015-12-31    176.880539\n",
      "2016-01-31    171.871017\n",
      "2016-02-29    177.100815\n",
      "2016-03-31    181.787064\n",
      "2016-04-30    190.716385\n",
      "2016-05-31    195.209625\n",
      "2016-06-30    205.076309\n",
      "2016-07-31    208.844482\n",
      "2016-08-31    202.144577\n",
      "2016-09-30    199.440613\n",
      "2016-10-31    204.981552\n",
      "2016-11-30    222.201645\n",
      "2016-12-31    209.376358\n",
      "2017-01-31    210.540787\n",
      "2017-02-28    224.854324\n",
      "2017-03-31    225.714615\n",
      "2017-04-30    227.275101\n",
      "2017-05-31    238.658173\n",
      "2017-06-30    235.669968\n",
      "2017-07-31    247.996368\n",
      "2017-08-31    260.793427\n",
      "2017-09-30    264.978027\n",
      "2017-10-31    263.158936\n",
      "2017-11-30    274.228149\n",
      "2017-12-31    275.886780\n",
      "2018-01-31    304.932098\n",
      "2018-02-28    304.561707\n",
      "2018-03-31    292.022919\n",
      "2018-04-30    277.254517\n",
      "2018-05-31    273.514282\n",
      "2018-06-30    256.896851\n",
      "2018-07-31    283.566467\n",
      "2018-08-31    280.360870\n",
      "2018-09-30    302.717194\n",
      "2018-10-31    257.120728\n",
      "2018-11-30    264.804596\n",
      "2018-12-31    230.790634\n",
      "2019-01-31    255.338104\n",
      "2019-02-28    274.684387\n",
      "2019-03-31    266.472595\n",
      "2019-04-30    295.919861\n",
      "2019-05-31    302.491150\n",
      "2019-06-30    324.829071\n",
      "2019-07-31    323.605042\n",
      "2019-08-31    345.184113\n",
      "2019-09-30    350.531158\n",
      "2019-10-31    338.507141\n",
      "2019-11-30    353.555176\n",
      "2019-12-31    354.341797\n",
      "Freq: M, Name: Adj Close, dtype: float64\n"
     ]
    }
   ],
   "source": [
    "#showcase the month stock price\n",
    "print(monthly_lmt)"
   ]
  },
  {
   "cell_type": "markdown",
   "id": "128e6385",
   "metadata": {},
   "source": [
    "# 2.\tCalculate Monthly Log Returns and Annualised Return "
   ]
  },
  {
   "cell_type": "code",
   "execution_count": 24,
   "id": "ea4a3842",
   "metadata": {},
   "outputs": [],
   "source": [
    "import numpy as np"
   ]
  },
  {
   "cell_type": "code",
   "execution_count": 25,
   "id": "181e1c48",
   "metadata": {},
   "outputs": [],
   "source": [
    "#calculate the log return of daily stock price and get the monthly log return, which is the last one of each month\n",
    "lmt['LogRet'] = np.log(lmt['Adj Close'] / lmt['Adj Close'].shift(1))"
   ]
  },
  {
   "cell_type": "code",
   "execution_count": 26,
   "id": "6845b929",
   "metadata": {},
   "outputs": [],
   "source": [
    "monthly_lmt_log_return = lmt['LogRet'].resample('M').last()"
   ]
  },
  {
   "cell_type": "code",
   "execution_count": 29,
   "id": "bc9873e1",
   "metadata": {
    "scrolled": false
   },
   "outputs": [
    {
     "name": "stdout",
     "output_type": "stream",
     "text": [
      "Date\n",
      "2015-01-31   -0.021688\n",
      "2015-02-28   -0.006378\n",
      "2015-03-31   -0.009464\n",
      "2015-04-30   -0.024823\n",
      "2015-05-31   -0.010150\n",
      "2015-06-30    0.002046\n",
      "2015-07-31    0.003046\n",
      "2015-08-31   -0.013430\n",
      "2015-09-30    0.023623\n",
      "2015-10-31    0.007214\n",
      "2015-11-30   -0.030335\n",
      "2015-12-31   -0.012130\n",
      "2016-01-31    0.020783\n",
      "2016-02-29   -0.006697\n",
      "2016-03-31   -0.006570\n",
      "2016-04-30   -0.001462\n",
      "2016-05-31   -0.016208\n",
      "2016-06-30    0.016618\n",
      "2016-07-31   -0.007176\n",
      "2016-08-31    0.014593\n",
      "2016-09-30   -0.010870\n",
      "2016-10-31   -0.006554\n",
      "2016-11-30   -0.005002\n",
      "2016-12-31   -0.002597\n",
      "2017-01-31   -0.005951\n",
      "2017-02-28   -0.010374\n",
      "2017-03-31   -0.010927\n",
      "2017-04-30   -0.006252\n",
      "2017-05-31    0.003706\n",
      "2017-06-30    0.003175\n",
      "2017-07-31    0.005905\n",
      "2017-08-31   -0.002975\n",
      "2017-09-30    0.003746\n",
      "2017-10-31   -0.001524\n",
      "2017-11-30    0.001128\n",
      "2017-12-31   -0.003265\n",
      "2018-01-31    0.012649\n",
      "2018-02-28   -0.010528\n",
      "2018-03-31    0.007724\n",
      "2018-04-30   -0.003702\n",
      "2018-05-31   -0.014205\n",
      "2018-06-30    0.000643\n",
      "2018-07-31    0.018539\n",
      "2018-08-31    0.001749\n",
      "2018-09-30   -0.000260\n",
      "2018-10-31    0.009506\n",
      "2018-11-30    0.000699\n",
      "2018-12-31    0.002218\n",
      "2019-01-31   -0.006812\n",
      "2019-02-28    0.013110\n",
      "2019-03-31    0.015308\n",
      "2019-04-30    0.014322\n",
      "2019-05-31   -0.003597\n",
      "2019-06-30    0.012316\n",
      "2019-07-31   -0.010492\n",
      "2019-08-31    0.004906\n",
      "2019-09-30    0.005630\n",
      "2019-10-31   -0.005190\n",
      "2019-11-30   -0.002069\n",
      "2019-12-31   -0.004328\n",
      "Freq: M, Name: LogRet, dtype: float64\n"
     ]
    }
   ],
   "source": [
    "print(monthly_lmt_log_return)"
   ]
  },
  {
   "cell_type": "code",
   "execution_count": 78,
   "id": "499affbe",
   "metadata": {},
   "outputs": [
    {
     "name": "stdout",
     "output_type": "stream",
     "text": [
      "Date\n",
      "2015-01-31   -0.025887\n",
      "2015-02-28    0.041621\n",
      "2015-03-31    0.056063\n",
      "2015-04-30   -0.027979\n",
      "2015-05-31   -0.011571\n",
      "2015-06-30   -0.023867\n",
      "2015-07-31    0.084125\n",
      "2015-08-31    0.062452\n",
      "2015-09-30    0.092467\n",
      "2015-10-31    0.151107\n",
      "2015-11-30    0.155388\n",
      "2015-12-31    0.146175\n",
      "2016-01-31    0.117445\n",
      "2016-02-29    0.147419\n",
      "2016-03-31    0.173536\n",
      "2016-04-30    0.221488\n",
      "2016-05-31    0.244774\n",
      "2016-06-30    0.294082\n",
      "2016-07-31    0.312290\n",
      "2016-08-31    0.279683\n",
      "2016-09-30    0.266217\n",
      "2016-10-31    0.293620\n",
      "2016-11-30    0.374286\n",
      "2016-12-31    0.314834\n",
      "2017-01-31    0.320380\n",
      "2017-02-28    0.386153\n",
      "2017-03-31    0.389972\n",
      "2017-04-30    0.396861\n",
      "2017-05-31    0.445733\n",
      "2017-06-30    0.433133\n",
      "2017-07-31    0.484114\n",
      "2017-08-31    0.534429\n",
      "2017-09-30    0.550347\n",
      "2017-10-31    0.543458\n",
      "2017-11-30    0.584661\n",
      "2017-12-31    0.590691\n",
      "2018-01-31    0.690789\n",
      "2018-02-28    0.689574\n",
      "2018-03-31    0.647533\n",
      "2018-04-30    0.595636\n",
      "2018-05-31    0.582054\n",
      "2018-06-30    0.519375\n",
      "2018-07-31    0.618147\n",
      "2018-08-31    0.606778\n",
      "2018-09-30    0.683499\n",
      "2018-10-31    0.520246\n",
      "2018-11-30    0.549692\n",
      "2018-12-31    0.412211\n",
      "2019-01-31    0.513289\n",
      "2019-02-28    0.586323\n",
      "2019-03-31    0.555972\n",
      "2019-04-30    0.660789\n",
      "2019-05-31    0.682752\n",
      "2019-06-30    0.753999\n",
      "2019-07-31    0.750224\n",
      "2019-08-31    0.814778\n",
      "2019-09-30    0.830150\n",
      "2019-10-31    0.795245\n",
      "2019-11-30    0.838740\n",
      "2019-12-31    0.840962\n",
      "Freq: M, Name: LogRet, dtype: float64\n"
     ]
    }
   ],
   "source": [
    "#but if you are asking the cumulative log return during a month period, the thing is different:\n",
    "monthly_cumulative_log_return = lmt['LogRet'].resample('M').sum().cumsum()\n",
    "print(monthly_cumulative_log_return)"
   ]
  },
  {
   "cell_type": "code",
   "execution_count": 86,
   "id": "ee03ccd3",
   "metadata": {},
   "outputs": [
    {
     "name": "stdout",
     "output_type": "stream",
     "text": [
      "annualised return=: 0.18420586784319912\n"
     ]
    }
   ],
   "source": [
    "#calculate annualised return\n",
    "lmt['Daily_Return'] = lmt['Adj Close'].pct_change()\n",
    "annualized_return = lmt['Daily_Return'].mean() * 252\n",
    "print(\"annualised return=:\", annualized_return)"
   ]
  },
  {
   "cell_type": "markdown",
   "id": "d9d42086",
   "metadata": {},
   "source": [
    "# 3. Calculate Annualised Volatility"
   ]
  },
  {
   "cell_type": "code",
   "execution_count": 87,
   "id": "8472dcd8",
   "metadata": {},
   "outputs": [],
   "source": [
    "#calculate annualised volatility\n",
    "annualized_volatility = lmt['Daily_Return'].std() * np.sqrt(252)"
   ]
  },
  {
   "cell_type": "code",
   "execution_count": 88,
   "id": "41d0820c",
   "metadata": {},
   "outputs": [
    {
     "name": "stdout",
     "output_type": "stream",
     "text": [
      "annualised volatility= 0.1756321863780029\n"
     ]
    }
   ],
   "source": [
    "print(\"annualised volatility=\", annualized_volatility)"
   ]
  },
  {
   "cell_type": "markdown",
   "id": "edc6bfd8",
   "metadata": {},
   "source": [
    "# 4.\tDownload ESG Data and Handle Missing Values"
   ]
  },
  {
   "cell_type": "code",
   "execution_count": 37,
   "id": "93ccbdca",
   "metadata": {},
   "outputs": [
    {
     "name": "stdout",
     "output_type": "stream",
     "text": [
      "Requirement already satisfied: yesg in d:\\python\\lib\\site-packages (2.1.1)\n",
      "Note: you may need to restart the kernel to use updated packages.\n"
     ]
    }
   ],
   "source": [
    "pip install yesg"
   ]
  },
  {
   "cell_type": "code",
   "execution_count": 38,
   "id": "433b7712",
   "metadata": {},
   "outputs": [],
   "source": [
    "import yesg"
   ]
  },
  {
   "cell_type": "code",
   "execution_count": 48,
   "id": "79255bc4",
   "metadata": {},
   "outputs": [],
   "source": [
    "#get all of the ESG data of LMT \n",
    "ESG_row = yesg.get_historic_esg('LMT')"
   ]
  },
  {
   "cell_type": "code",
   "execution_count": 49,
   "id": "b7f88f7c",
   "metadata": {
    "scrolled": true
   },
   "outputs": [
    {
     "data": {
      "text/plain": [
       "Date\n",
       "2015-01-01    72.00\n",
       "2015-02-01    71.00\n",
       "2015-03-01    69.00\n",
       "2015-04-01    69.00\n",
       "2015-05-01    70.00\n",
       "2015-06-01    70.00\n",
       "2015-07-01    70.00\n",
       "2015-08-01    70.00\n",
       "2015-09-01    70.00\n",
       "2015-10-01    70.00\n",
       "2015-11-01    70.00\n",
       "2015-12-01    71.00\n",
       "2016-01-01    71.33\n",
       "2016-02-01    71.33\n",
       "2016-03-01    71.33\n",
       "2016-04-01    69.97\n",
       "2016-05-01    69.97\n",
       "2016-06-01    69.97\n",
       "2016-07-01    69.27\n",
       "2016-08-01    69.27\n",
       "2016-09-01    69.27\n",
       "2016-10-01    69.27\n",
       "2016-11-01    69.27\n",
       "2016-12-01    69.27\n",
       "2017-01-01    69.29\n",
       "2017-02-01    69.29\n",
       "2017-03-01    68.42\n",
       "2017-04-01    70.00\n",
       "2017-05-01    69.56\n",
       "2017-06-01    69.56\n",
       "2017-07-01    69.56\n",
       "2017-08-01    69.56\n",
       "2017-09-01    69.56\n",
       "2017-10-01    67.71\n",
       "2017-11-01    67.71\n",
       "2017-12-01    67.71\n",
       "2018-01-01    67.71\n",
       "2018-02-01    67.71\n",
       "2018-03-01    67.71\n",
       "2018-04-01    67.71\n",
       "2018-05-01    67.71\n",
       "2018-06-01    67.71\n",
       "2018-07-01    67.71\n",
       "2018-08-01    67.71\n",
       "2018-09-01    62.87\n",
       "2018-10-01    63.47\n",
       "2018-11-01    63.37\n",
       "2018-12-01    63.37\n",
       "2019-01-01    63.37\n",
       "2019-02-01    63.37\n",
       "2019-03-01    63.59\n",
       "2019-04-01    63.59\n",
       "2019-05-01    63.55\n",
       "2019-06-01    63.55\n",
       "2019-07-01    63.55\n",
       "2019-08-01    64.86\n",
       "2019-09-01    64.86\n",
       "2019-10-01    65.09\n",
       "2019-11-01    65.09\n",
       "2019-12-01    30.74\n",
       "Name: Total-Score, dtype: float64"
      ]
     },
     "execution_count": 49,
     "metadata": {},
     "output_type": "execute_result"
    }
   ],
   "source": [
    "#choose the timeframe and the row of total score \n",
    "ESG = ESG_row.loc['2015-01-01':'2019-12-31', 'Total-Score']\n",
    "ESG"
   ]
  },
  {
   "cell_type": "code",
   "execution_count": 53,
   "id": "dd01d823",
   "metadata": {},
   "outputs": [
    {
     "name": "stdout",
     "output_type": "stream",
     "text": [
      "60\n"
     ]
    }
   ],
   "source": [
    "#there are 60 month in 5 years from 2015-1-1 to 2019-12-31, if there are 60 numbers, there is no number missing\n",
    "print(len(ESG))\n",
    "#the length of ESG is 60, so there is no NaN"
   ]
  },
  {
   "cell_type": "code",
   "execution_count": 55,
   "id": "e0017ad1",
   "metadata": {},
   "outputs": [],
   "source": [
    "# draw the picture of ESG Total Score for Lockheed Martin Corp.along with time changed\n",
    "import matplotlib.pyplot as plt"
   ]
  },
  {
   "cell_type": "code",
   "execution_count": 56,
   "id": "9f26a01f",
   "metadata": {
    "scrolled": true
   },
   "outputs": [
    {
     "data": {
      "text/plain": [
       "Text(0.5, 1.0, 'ESG Total Score for Lockheed Martin Corp.')"
      ]
     },
     "execution_count": 56,
     "metadata": {},
     "output_type": "execute_result"
    },
    {
     "data": {
      "image/png": "[encoded data removed]",
      "text/plain": [
       "<Figure size 1000x600 with 1 Axes>"
      ]
     },
     "metadata": {},
     "output_type": "display_data"
    }
   ],
   "source": [
    "ESG.plot(figsize=(10, 6))\n",
    "plt.xlabel('Time')\n",
    "plt.ylabel('Total score')\n",
    "plt.title('ESG Total Score for Lockheed Martin Corp.')"
   ]
  },
  {
   "cell_type": "markdown",
   "id": "ee618b44",
   "metadata": {},
   "source": [
    "analyse: As time progresses, the ESG Total Score for Lockheed Martin Corp. gradually decreased, reaching a decrease of over half by the last month of 2019."
   ]
  },
  {
   "cell_type": "markdown",
   "id": "a1e3bc00",
   "metadata": {},
   "source": [
    "# 5.\tCalculate and Analyse the Correlation between Stock Price and ESG "
   ]
  },
  {
   "cell_type": "code",
   "execution_count": 64,
   "id": "5c25a018",
   "metadata": {},
   "outputs": [],
   "source": [
    "#Because the above monthly stock prices are at the end of the month, \n",
    "#and ESG data is at the beginning of the month, there is a time mismatch. \n",
    "#Therefore, get the stock prices at the beginning of the month.\n",
    "monthly_lmt_new = lmt['Adj Close'].resample('MS').first()"
   ]
  },
  {
   "cell_type": "code",
   "execution_count": 84,
   "id": "50edc0d3",
   "metadata": {},
   "outputs": [
    {
     "name": "stdout",
     "output_type": "stream",
     "text": [
      "Date\n",
      "2015-01-01    152.825958\n",
      "2015-02-01    149.679459\n",
      "2015-03-01    161.686310\n",
      "2015-04-01    158.293655\n",
      "2015-05-01    150.520721\n",
      "2015-06-01    153.371521\n",
      "2015-07-01    151.043701\n",
      "2015-08-01    166.792648\n",
      "2015-09-01    159.795990\n",
      "2015-10-01    165.561325\n",
      "2015-11-01    178.369614\n",
      "2015-12-01    179.364899\n",
      "2016-01-01    173.671219\n",
      "2016-02-01    170.893555\n",
      "2016-03-01    179.021255\n",
      "2016-04-01    183.108414\n",
      "2016-05-01    191.422134\n",
      "2016-06-01    196.738373\n",
      "2016-07-01    206.051422\n",
      "2016-08-01    210.588089\n",
      "2016-09-01    202.677032\n",
      "2016-10-01    200.156143\n",
      "2016-11-01    203.816803\n",
      "2016-12-01    223.164993\n",
      "2017-01-01    212.199402\n",
      "2017-02-01    210.180557\n",
      "2017-03-01    226.372528\n",
      "2017-04-01    226.625580\n",
      "2017-05-01    226.414658\n",
      "2017-06-01    238.513855\n",
      "2017-07-01    236.782059\n",
      "2017-08-01    248.437759\n",
      "2017-09-01    258.060760\n",
      "2017-10-01    265.865967\n",
      "2017-11-01    261.826721\n",
      "2017-12-01    269.459045\n",
      "2018-01-01    273.729858\n",
      "2018-02-01    307.106140\n",
      "2018-03-01    293.543701\n",
      "2018-04-01    287.762665\n",
      "2018-05-01    266.556335\n",
      "2018-06-01    275.331696\n",
      "2018-07-01    260.105530\n",
      "2018-08-01    282.549133\n",
      "2018-09-01    281.673309\n",
      "2018-10-01    304.440948\n",
      "2018-11-01    261.994476\n",
      "2018-12-01    261.596191\n",
      "2019-01-01    233.337921\n",
      "2019-02-01    256.122589\n",
      "2019-03-01    274.737640\n",
      "2019-04-01    270.139099\n",
      "2019-05-01    294.605927\n",
      "2019-06-01    307.879089\n",
      "2019-07-01    322.979553\n",
      "2019-08-01    324.427002\n",
      "2019-09-01    345.705383\n",
      "2019-10-01    345.256012\n",
      "2019-11-01    340.744781\n",
      "2019-12-01    346.855347\n",
      "Freq: MS, Name: Adj Close, dtype: float64\n"
     ]
    }
   ],
   "source": [
    "print(monthly_lmt_new)"
   ]
  },
  {
   "cell_type": "code",
   "execution_count": 65,
   "id": "36176c23",
   "metadata": {},
   "outputs": [
    {
     "name": "stdout",
     "output_type": "stream",
     "text": [
      "The correlation between the stock price and ESG Total Score from Jan 2015 to Dec 2022 is -0.5765\n"
     ]
    }
   ],
   "source": [
    "#calculate the correlation coefficient between the stock price and its ESG Total Score\n",
    "correlation = monthly_lmt_new.corr(ESG)\n",
    "print(f\"The correlation between the stock price and ESG Total Score from Jan 2015 to Dec 2022 is {correlation:.4f}\")"
   ]
  },
  {
   "cell_type": "markdown",
   "id": "bb530e1c",
   "metadata": {},
   "source": [
    "# Question 2: Climate Analysis Based on Birthplace"
   ]
  },
  {
   "cell_type": "code",
   "execution_count": 68,
   "id": "18daaab6",
   "metadata": {},
   "outputs": [],
   "source": [
    "from datetime import datetime\n",
    "from meteostat import Point, Daily"
   ]
  },
  {
   "cell_type": "code",
   "execution_count": 69,
   "id": "881eed1f",
   "metadata": {},
   "outputs": [],
   "source": [
    "#I was born in May, so I use May 2022 for my timeframe and calculate CDD\n",
    "start = datetime(2022, 5, 1)\n",
    "end = datetime(2022, 5, 31)"
   ]
  },
  {
   "cell_type": "code",
   "execution_count": 71,
   "id": "1248d005",
   "metadata": {},
   "outputs": [],
   "source": [
    "# I was born in Beijing , so I use Beijing's (latitude, longitude, and altitude),which I got from Being\n",
    "location = Point(39.916668, 116.383331, 50) "
   ]
  },
  {
   "cell_type": "code",
   "execution_count": 72,
   "id": "a0c60c53",
   "metadata": {},
   "outputs": [],
   "source": [
    "data = Daily(location, start, end)\n",
    "data = data.fetch()"
   ]
  },
  {
   "cell_type": "code",
   "execution_count": 74,
   "id": "f740f5e2",
   "metadata": {
    "scrolled": true
   },
   "outputs": [
    {
     "data": {
      "image/png": "[encoded data removed]",
      "text/plain": [
       "<Figure size 640x480 with 1 Axes>"
      ]
     },
     "metadata": {},
     "output_type": "display_data"
    }
   ],
   "source": [
    "data.plot(y=['tavg'])\n",
    "plt.show()"
   ]
  },
  {
   "cell_type": "code",
   "execution_count": null,
   "id": "7fbb69af",
   "metadata": {},
   "outputs": [],
   "source": [
    "#the formular of CDD is CDD = Max(0, daily average temperature - 65°F or 18℃)\n",
    "#the formular of total CDDs is total CDDs= sum of CDDs"
   ]
  },
  {
   "cell_type": "code",
   "execution_count": 75,
   "id": "cbcee647",
   "metadata": {},
   "outputs": [],
   "source": [
    "T_base = 18\n",
    "cdds = [max(temp - T_base, 0) for temp in data.tavg]"
   ]
  },
  {
   "cell_type": "code",
   "execution_count": 76,
   "id": "fcb49147",
   "metadata": {},
   "outputs": [
    {
     "name": "stdout",
     "output_type": "stream",
     "text": [
      "Total CDD: 125.3\n"
     ]
    }
   ],
   "source": [
    "total_cdd = sum(cdds)\n",
    "print(\"Total CDD:\", total_cdd)"
   ]
  },
  {
   "cell_type": "markdown",
   "id": "d4f04a56",
   "metadata": {},
   "source": [
    "# Question 3: Critical Analysis on Cryptocurrencies and Environment"
   ]
  },
  {
   "cell_type": "markdown",
   "id": "9accf57f",
   "metadata": {},
   "source": [
    "I believe Ethereum is more environmentally friendly because it strives to use less electricity. The reasons for this are as follows:\n",
    "\n",
    "Bitcoin employs a consensus mechanism known as Proof-of-Work (PoW), which demands substantial computational power and electricity. Miners in the Bitcoin network compete for the right to create new blocks by solving mathematical puzzles, making the entire network highly energy-intensive. Currently, the Bitcoin community primarily focuses on improving the scalability and security of the network, with relatively little attention given to environmental concerns. There is no clear plan to transition to a more eco-friendly consensus mechanism.\n",
    "\n",
    "On the other hand, Ethereum currently utilizes PoW but is transitioning towards a more sustainable consensus mechanism known as Proof-of-Stake (PoS). In PoS, a miner's influence is proportional to the amount of cryptocurrency they hold, eliminating the need for extensive energy consumption as seen in PoW. This transition indicates a proactive willingness within the Ethereum community to reduce energy consumption and environmental impact. The implementation of Ethereum 2.0 is expected to further enhance the environmental friendliness of Ethereum."
   ]
  }
 ],
 "metadata": {
  "kernelspec": {
   "display_name": "Python 3 (ipykernel)",
   "language": "python",
   "name": "python3"
  },
  "language_info": {
   "codemirror_mode": {
    "name": "ipython",
    "version": 3
   },
   "file_extension": ".py",
   "mimetype": "text/x-python",
   "name": "python",
   "nbconvert_exporter": "python",
   "pygments_lexer": "ipython3",
   "version": "3.11.5"
  }
 },
 "nbformat": 4,
 "nbformat_minor": 5
}
